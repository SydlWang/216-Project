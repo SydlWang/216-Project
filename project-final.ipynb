{
 "cells": [
  {
   "cell_type": "code",
   "execution_count": 1,
   "id": "824c7603",
   "metadata": {},
   "outputs": [],
   "source": [
    "# Run this code cell to import relevant libraries\n",
    "# Please update to seaborn v0.11 or above for this assignment\n",
    "# check version: print(sns.__version__)\n",
    "\n",
    "import numpy as np\n",
    "import pandas as pd\n",
    "import seaborn as sns\n",
    "from scipy import stats\n",
    "from sklearn.linear_model import LinearRegression\n",
    "from sklearn.metrics import mean_squared_error\n",
    "from sklearn.metrics import r2_score\n",
    "from sklearn.preprocessing import OneHotEncoder\n",
    "import statsmodels.api as sm"
   ]
  },
  {
   "cell_type": "code",
   "execution_count": 2,
   "id": "b0d368a9",
   "metadata": {},
   "outputs": [
    {
     "name": "stdout",
     "output_type": "stream",
     "text": [
      "(1338, 7)\n"
     ]
    },
    {
     "data": {
      "text/html": [
       "<div>\n",
       "<style scoped>\n",
       "    .dataframe tbody tr th:only-of-type {\n",
       "        vertical-align: middle;\n",
       "    }\n",
       "\n",
       "    .dataframe tbody tr th {\n",
       "        vertical-align: top;\n",
       "    }\n",
       "\n",
       "    .dataframe thead th {\n",
       "        text-align: right;\n",
       "    }\n",
       "</style>\n",
       "<table border=\"1\" class=\"dataframe\">\n",
       "  <thead>\n",
       "    <tr style=\"text-align: right;\">\n",
       "      <th></th>\n",
       "      <th>age</th>\n",
       "      <th>sex</th>\n",
       "      <th>bmi</th>\n",
       "      <th>children</th>\n",
       "      <th>smoker</th>\n",
       "      <th>region</th>\n",
       "      <th>charges</th>\n",
       "    </tr>\n",
       "  </thead>\n",
       "  <tbody>\n",
       "    <tr>\n",
       "      <th>0</th>\n",
       "      <td>19</td>\n",
       "      <td>female</td>\n",
       "      <td>27.900</td>\n",
       "      <td>0</td>\n",
       "      <td>yes</td>\n",
       "      <td>southwest</td>\n",
       "      <td>16884.92400</td>\n",
       "    </tr>\n",
       "    <tr>\n",
       "      <th>1</th>\n",
       "      <td>18</td>\n",
       "      <td>male</td>\n",
       "      <td>33.770</td>\n",
       "      <td>1</td>\n",
       "      <td>no</td>\n",
       "      <td>southeast</td>\n",
       "      <td>1725.55230</td>\n",
       "    </tr>\n",
       "    <tr>\n",
       "      <th>2</th>\n",
       "      <td>28</td>\n",
       "      <td>male</td>\n",
       "      <td>33.000</td>\n",
       "      <td>3</td>\n",
       "      <td>no</td>\n",
       "      <td>southeast</td>\n",
       "      <td>4449.46200</td>\n",
       "    </tr>\n",
       "    <tr>\n",
       "      <th>3</th>\n",
       "      <td>33</td>\n",
       "      <td>male</td>\n",
       "      <td>22.705</td>\n",
       "      <td>0</td>\n",
       "      <td>no</td>\n",
       "      <td>northwest</td>\n",
       "      <td>21984.47061</td>\n",
       "    </tr>\n",
       "    <tr>\n",
       "      <th>4</th>\n",
       "      <td>32</td>\n",
       "      <td>male</td>\n",
       "      <td>28.880</td>\n",
       "      <td>0</td>\n",
       "      <td>no</td>\n",
       "      <td>northwest</td>\n",
       "      <td>3866.85520</td>\n",
       "    </tr>\n",
       "  </tbody>\n",
       "</table>\n",
       "</div>"
      ],
      "text/plain": [
       "   age     sex     bmi  children smoker     region      charges\n",
       "0   19  female  27.900         0    yes  southwest  16884.92400\n",
       "1   18    male  33.770         1     no  southeast   1725.55230\n",
       "2   28    male  33.000         3     no  southeast   4449.46200\n",
       "3   33    male  22.705         0     no  northwest  21984.47061\n",
       "4   32    male  28.880         0     no  northwest   3866.85520"
      ]
     },
     "execution_count": 2,
     "metadata": {},
     "output_type": "execute_result"
    }
   ],
   "source": [
    "# Run but do not modify this code\n",
    "\n",
    "insurance = pd.read_csv(\"insurance.csv\")\n",
    "print(insurance.shape)\n",
    "insurance.head()"
   ]
  },
  {
   "cell_type": "code",
   "execution_count": 3,
   "id": "c1cc6d8b",
   "metadata": {},
   "outputs": [
    {
     "data": {
      "text/html": [
       "<div>\n",
       "<style scoped>\n",
       "    .dataframe tbody tr th:only-of-type {\n",
       "        vertical-align: middle;\n",
       "    }\n",
       "\n",
       "    .dataframe tbody tr th {\n",
       "        vertical-align: top;\n",
       "    }\n",
       "\n",
       "    .dataframe thead th {\n",
       "        text-align: right;\n",
       "    }\n",
       "</style>\n",
       "<table border=\"1\" class=\"dataframe\">\n",
       "  <thead>\n",
       "    <tr style=\"text-align: right;\">\n",
       "      <th></th>\n",
       "      <th>charges</th>\n",
       "    </tr>\n",
       "    <tr>\n",
       "      <th>smoker</th>\n",
       "      <th></th>\n",
       "    </tr>\n",
       "  </thead>\n",
       "  <tbody>\n",
       "    <tr>\n",
       "      <th>no</th>\n",
       "      <td>8434.268298</td>\n",
       "    </tr>\n",
       "    <tr>\n",
       "      <th>yes</th>\n",
       "      <td>32050.231832</td>\n",
       "    </tr>\n",
       "  </tbody>\n",
       "</table>\n",
       "</div>"
      ],
      "text/plain": [
       "             charges\n",
       "smoker              \n",
       "no       8434.268298\n",
       "yes     32050.231832"
      ]
     },
     "execution_count": 3,
     "metadata": {},
     "output_type": "execute_result"
    }
   ],
   "source": [
    "# summary table for smoker status\n",
    "charges_by_smoker = insurance.groupby('smoker')['charges'].mean().to_frame()\n",
    "charges_by_smoker.head()"
   ]
  },
  {
   "cell_type": "code",
   "execution_count": 4,
   "id": "4d022c99",
   "metadata": {},
   "outputs": [
    {
     "data": {
      "text/html": [
       "<div>\n",
       "<style scoped>\n",
       "    .dataframe tbody tr th:only-of-type {\n",
       "        vertical-align: middle;\n",
       "    }\n",
       "\n",
       "    .dataframe tbody tr th {\n",
       "        vertical-align: top;\n",
       "    }\n",
       "\n",
       "    .dataframe thead th {\n",
       "        text-align: right;\n",
       "    }\n",
       "</style>\n",
       "<table border=\"1\" class=\"dataframe\">\n",
       "  <thead>\n",
       "    <tr style=\"text-align: right;\">\n",
       "      <th></th>\n",
       "      <th>charges</th>\n",
       "    </tr>\n",
       "    <tr>\n",
       "      <th>sex</th>\n",
       "      <th></th>\n",
       "    </tr>\n",
       "  </thead>\n",
       "  <tbody>\n",
       "    <tr>\n",
       "      <th>female</th>\n",
       "      <td>12569.578844</td>\n",
       "    </tr>\n",
       "    <tr>\n",
       "      <th>male</th>\n",
       "      <td>13956.751178</td>\n",
       "    </tr>\n",
       "  </tbody>\n",
       "</table>\n",
       "</div>"
      ],
      "text/plain": [
       "             charges\n",
       "sex                 \n",
       "female  12569.578844\n",
       "male    13956.751178"
      ]
     },
     "execution_count": 4,
     "metadata": {},
     "output_type": "execute_result"
    }
   ],
   "source": [
    "# summary table for sex\n",
    "charges_by_sex = insurance.groupby('sex')['charges'].mean().to_frame()\n",
    "charges_by_sex.head()"
   ]
  },
  {
   "cell_type": "code",
   "execution_count": 5,
   "id": "a5266109",
   "metadata": {},
   "outputs": [
    {
     "data": {
      "text/html": [
       "<div>\n",
       "<style scoped>\n",
       "    .dataframe tbody tr th:only-of-type {\n",
       "        vertical-align: middle;\n",
       "    }\n",
       "\n",
       "    .dataframe tbody tr th {\n",
       "        vertical-align: top;\n",
       "    }\n",
       "\n",
       "    .dataframe thead th {\n",
       "        text-align: right;\n",
       "    }\n",
       "</style>\n",
       "<table border=\"1\" class=\"dataframe\">\n",
       "  <thead>\n",
       "    <tr style=\"text-align: right;\">\n",
       "      <th></th>\n",
       "      <th>charges</th>\n",
       "    </tr>\n",
       "    <tr>\n",
       "      <th>region</th>\n",
       "      <th></th>\n",
       "    </tr>\n",
       "  </thead>\n",
       "  <tbody>\n",
       "    <tr>\n",
       "      <th>northeast</th>\n",
       "      <td>13406.384516</td>\n",
       "    </tr>\n",
       "    <tr>\n",
       "      <th>northwest</th>\n",
       "      <td>12417.575374</td>\n",
       "    </tr>\n",
       "    <tr>\n",
       "      <th>southeast</th>\n",
       "      <td>14735.411438</td>\n",
       "    </tr>\n",
       "    <tr>\n",
       "      <th>southwest</th>\n",
       "      <td>12346.937377</td>\n",
       "    </tr>\n",
       "  </tbody>\n",
       "</table>\n",
       "</div>"
      ],
      "text/plain": [
       "                charges\n",
       "region                 \n",
       "northeast  13406.384516\n",
       "northwest  12417.575374\n",
       "southeast  14735.411438\n",
       "southwest  12346.937377"
      ]
     },
     "execution_count": 5,
     "metadata": {},
     "output_type": "execute_result"
    }
   ],
   "source": [
    "# summary table for region\n",
    "charges_by_region = insurance.groupby('region')['charges'].mean().to_frame()\n",
    "charges_by_region.head()"
   ]
  },
  {
   "cell_type": "code",
   "execution_count": 6,
   "id": "ad15c1d2",
   "metadata": {},
   "outputs": [],
   "source": [
    "# summary table for bmi\n",
    "under = insurance[insurance['bmi'] < 18.5]\n",
    "under.insert(0, 'BMI Class', 'Underweight')\n",
    "\n",
    "healthy = insurance[(insurance['bmi'] >= 18.5) & (insurance['bmi'] < 25.0)] \n",
    "healthy.insert(0, 'BMI Class', 'Healthy Weight')\n",
    "\n",
    "over = insurance[(insurance['bmi'] >= 25.0) & (insurance['bmi'] < 30.0)] \n",
    "over.insert(0, 'BMI Class', 'Overweight')\n",
    "\n",
    "obese = insurance[insurance['bmi'] >= 30.0]\n",
    "obese.insert(0, 'BMI Class', 'Obese')\n",
    "\n",
    "frames = [under, healthy, over, obese]\n",
    "bmi = pd.concat(frames)"
   ]
  },
  {
   "cell_type": "code",
   "execution_count": 7,
   "id": "e0e95bdd",
   "metadata": {},
   "outputs": [
    {
     "data": {
      "text/html": [
       "<div>\n",
       "<style scoped>\n",
       "    .dataframe tbody tr th:only-of-type {\n",
       "        vertical-align: middle;\n",
       "    }\n",
       "\n",
       "    .dataframe tbody tr th {\n",
       "        vertical-align: top;\n",
       "    }\n",
       "\n",
       "    .dataframe thead th {\n",
       "        text-align: right;\n",
       "    }\n",
       "</style>\n",
       "<table border=\"1\" class=\"dataframe\">\n",
       "  <thead>\n",
       "    <tr style=\"text-align: right;\">\n",
       "      <th></th>\n",
       "      <th>charges</th>\n",
       "    </tr>\n",
       "    <tr>\n",
       "      <th>BMI Class</th>\n",
       "      <th></th>\n",
       "    </tr>\n",
       "  </thead>\n",
       "  <tbody>\n",
       "    <tr>\n",
       "      <th>Healthy Weight</th>\n",
       "      <td>10409.337709</td>\n",
       "    </tr>\n",
       "    <tr>\n",
       "      <th>Obese</th>\n",
       "      <td>15552.335469</td>\n",
       "    </tr>\n",
       "    <tr>\n",
       "      <th>Overweight</th>\n",
       "      <td>10987.509891</td>\n",
       "    </tr>\n",
       "    <tr>\n",
       "      <th>Underweight</th>\n",
       "      <td>8852.200585</td>\n",
       "    </tr>\n",
       "  </tbody>\n",
       "</table>\n",
       "</div>"
      ],
      "text/plain": [
       "                     charges\n",
       "BMI Class                   \n",
       "Healthy Weight  10409.337709\n",
       "Obese           15552.335469\n",
       "Overweight      10987.509891\n",
       "Underweight      8852.200585"
      ]
     },
     "execution_count": 7,
     "metadata": {},
     "output_type": "execute_result"
    }
   ],
   "source": [
    "# summary table for bmi\n",
    "charges_by_bmi = bmi.groupby('BMI Class')['charges'].mean().to_frame()\n",
    "charges_by_bmi.head()"
   ]
  },
  {
   "cell_type": "code",
   "execution_count": 8,
   "id": "5b32c92b",
   "metadata": {},
   "outputs": [
    {
     "data": {
      "image/png": "[encoded data removed]",
      "text/plain": [
       "<Figure size 413.25x360 with 1 Axes>"
      ]
     },
     "metadata": {
      "needs_background": "light"
     },
     "output_type": "display_data"
    }
   ],
   "source": [
    "# visualization on smoker status and insurance cost\n",
    "(sns.displot(data = insurance, x = 'charges', hue = 'smoker')\n",
    "    .set(title = 'Relationship Between Smoker Status and Insurance Costs')\n",
    "    ._legend.set_title('Smoker Status'))"
   ]
  },
  {
   "cell_type": "code",
   "execution_count": 9,
   "id": "139788d3",
   "metadata": {},
   "outputs": [
    {
     "data": {
      "image/png": "[encoded data removed]",
      "text/plain": [
       "<Figure size 430.5x360 with 1 Axes>"
      ]
     },
     "metadata": {
      "needs_background": "light"
     },
     "output_type": "display_data"
    }
   ],
   "source": [
    "# visualization on sex and insurance costs\n",
    "(sns.displot(data = insurance, x = 'charges', hue = 'sex', palette=[\"blue\", \"red\"])\n",
    "    .set(title = 'Relationship Between Sex and Insurance Costs')\n",
    "    ._legend.set_title('Sex'))"
   ]
  },
  {
   "cell_type": "code",
   "execution_count": 10,
   "id": "1cd94429",
   "metadata": {},
   "outputs": [
    {
     "data": {
      "image/png": "[encoded data removed]",
      "text/plain": [
       "<Figure size 472.75x360 with 1 Axes>"
      ]
     },
     "metadata": {
      "needs_background": "light"
     },
     "output_type": "display_data"
    }
   ],
   "source": [
    "# visualization on bmi class and insurance costs\n",
    "(sns.displot(data = bmi, x = 'charges', hue = 'BMI Class')\n",
    "    .set(title = 'Relationship Between BMI Class and Insurance Costs')\n",
    "    ._legend.set_title('BMI Class'))"
   ]
  },
  {
   "cell_type": "code",
   "execution_count": 11,
   "id": "0e277eb1",
   "metadata": {},
   "outputs": [
    {
     "name": "stdout",
     "output_type": "stream",
     "text": [
      "P-Value is : 0.036\n",
      "Male confidence interval ranges from 13919.144 to 13994.359\n",
      "Female confidence interval ranges from 12536.630 to 12602.527\n"
     ]
    }
   ],
   "source": [
    "# sex hypothesis test and confidence interval\n",
    "males = insurance[insurance['sex'] == 'male']\n",
    "females = insurance[insurance['sex'] == 'female']\n",
    "male_prop = males['charges'].mean()\n",
    "female_prop = females['charges'].mean()\n",
    "male_std = males['charges'].std()\n",
    "female_std = females['charges'].std()\n",
    "p_val1 = stats.ttest_ind_from_stats(mean1=male_prop, std1=male_std, nobs1=males.shape[0], mean2=female_prop, std2=female_std, nobs2=females.shape[0])[1]\n",
    "print(\"P-Value is : %5.3f\" % (p_val1))\n",
    "male_ci = list(stats.norm.interval(alpha=0.95, loc=male_prop, scale = (male_std / males.shape[0])))\n",
    "female_ci = list(stats.norm.interval(alpha=0.95, loc=female_prop, scale = (female_std / females.shape[0])))\n",
    "print(\"Male confidence interval ranges from %5.3f to %5.3f\" % (male_ci[0], male_ci[1]))\n",
    "print(\"Female confidence interval ranges from %5.3f to %5.3f\" % (female_ci[0], female_ci[1]))"
   ]
  },
  {
   "cell_type": "code",
   "execution_count": 12,
   "id": "5ddf40d9",
   "metadata": {},
   "outputs": [
    {
     "name": "stdout",
     "output_type": "stream",
     "text": [
      "P-Value is : 0.000\n",
      "Smokers confidence interval ranges from 31967.673 to 32132.790\n",
      "Nonmokers confidence interval ranges from 8423.227 to 8445.309\n"
     ]
    }
   ],
   "source": [
    "# smoker status hypothesis test and confidence interval\n",
    "smokers = insurance[insurance['smoker'] == 'yes']\n",
    "nonsmokers = insurance[insurance['smoker'] == 'no']\n",
    "smokers_prop = smokers['charges'].mean()\n",
    "nonsmokers_prop = nonsmokers['charges'].mean()\n",
    "smokers_std = smokers['charges'].std()\n",
    "nonsmokers_std = nonsmokers['charges'].std()\n",
    "p_val2 = stats.ttest_ind_from_stats(mean1=smokers_prop, std1=smokers_std, nobs1=smokers.shape[0], mean2=nonsmokers_prop, std2=nonsmokers_std, nobs2=nonsmokers.shape[0])[1]\n",
    "print(\"P-Value is : %5.3f\" % (p_val2))\n",
    "smokers_ci = list(stats.norm.interval(alpha=0.95, loc=smokers_prop, scale = (smokers_std / smokers.shape[0])))\n",
    "nonsmokers_ci = list(stats.norm.interval(alpha=0.95, loc=nonsmokers_prop, scale = (nonsmokers_std / nonsmokers.shape[0])))\n",
    "print(\"Smokers confidence interval ranges from %5.3f to %5.3f\" % (smokers_ci[0], smokers_ci[1]))\n",
    "print(\"Nonmokers confidence interval ranges from %5.3f to %5.3f\" % (nonsmokers_ci[0], nonsmokers_ci[1]))"
   ]
  },
  {
   "cell_type": "code",
   "execution_count": 13,
   "id": "f5eae42c",
   "metadata": {},
   "outputs": [
    {
     "name": "stdout",
     "output_type": "stream",
     "text": [
      "Underweight class confidence interval ranges from 8094.181 to 9610.220\n",
      "Healthy weight class confidence interval ranges from 10343.957 to 10474.718\n",
      "Overweight class confidence interval ranges from 10946.689 to 11028.331\n",
      "Obese class confidence interval ranges from 15511.993 to 15592.678\n"
     ]
    }
   ],
   "source": [
    "# bmi class hypothesis test and confidence interval\n",
    "under_prop = under['charges'].mean()\n",
    "healthy_prop = healthy['charges'].mean()\n",
    "over_prop = over['charges'].mean()\n",
    "obese_prop = obese['charges'].mean()\n",
    "\n",
    "under_std = under['charges'].std()\n",
    "healthy_std = healthy['charges'].std()\n",
    "over_std = over['charges'].std()\n",
    "obese_std = obese['charges'].std()\n",
    "\n",
    "under_ci = list(stats.norm.interval(alpha=0.95, loc=under_prop, scale = (under_std / under.shape[0])))\n",
    "healthy_ci = list(stats.norm.interval(alpha=0.95, loc=healthy_prop, scale = (healthy_std / healthy.shape[0])))\n",
    "over_ci = list(stats.norm.interval(alpha=0.95, loc=over_prop, scale = (over_std / over.shape[0])))\n",
    "obese_ci = list(stats.norm.interval(alpha=0.95, loc=obese_prop, scale = (obese_std / obese.shape[0])))\n",
    "print(\"Underweight class confidence interval ranges from %5.3f to %5.3f\" % (under_ci[0], under_ci[1]))\n",
    "print(\"Healthy weight class confidence interval ranges from %5.3f to %5.3f\" % (healthy_ci[0], healthy_ci[1]))\n",
    "print(\"Overweight class confidence interval ranges from %5.3f to %5.3f\" % (over_ci[0], over_ci[1]))\n",
    "print(\"Obese class confidence interval ranges from %5.3f to %5.3f\" % (obese_ci[0], obese_ci[1]))"
   ]
  },
  {
   "cell_type": "code",
   "execution_count": 14,
   "id": "8c0f9752",
   "metadata": {},
   "outputs": [
    {
     "name": "stdout",
     "output_type": "stream",
     "text": [
      "Model MSE: 36527659.88568238 r^2: 0.7507372027994937\n",
      "Baseline MSE: 146542766.49354792 r^2: 0.0\n"
     ]
    }
   ],
   "source": [
    "# multiple linear regression model\n",
    "\n",
    "# make variables categorical\n",
    "insurance['sex'].replace(['female', 'male'],\n",
    "                        [0, 1], inplace=True)\n",
    "insurance['region'].replace(['southwest', 'southeast', 'northwest', 'northeast'],\n",
    "                        [0, 1, 2, 3], inplace=True)\n",
    "insurance['smoker'].replace(['no', 'yes'],\n",
    "                        [0, 1], inplace=True)\n",
    "\n",
    "# set data and target\n",
    "data = insurance[['age', 'sex', 'bmi', 'children', 'smoker', 'region']].values\n",
    "target = insurance['charges'].values\n",
    "\n",
    "# fit model and predict data\n",
    "linear_model = LinearRegression()\n",
    "linear_model.fit(X = data, y = target)\n",
    "insurance['predicted_charges'] = linear_model.predict(data)\n",
    "predictions = insurance['predicted_charges'].values\n",
    "\n",
    "# create baseline model\n",
    "average = np.mean(insurance['charges'])\n",
    "baseline = np.full(predictions.shape, average)\n",
    "\n",
    "# calculate model accuracy\n",
    "m1_mse = mean_squared_error(target, predictions) # float: MSE of your model\n",
    "m1_r2 = r2_score(target, predictions) # float: R^2 score of your model\n",
    "base_mse = mean_squared_error(target, baseline)\n",
    "base_r2 = r2_score(target, baseline)\n",
    "\n",
    "# Leave these lines here to print the result\n",
    "print(\"Model MSE:\", m1_mse, \"r^2:\", m1_r2)\n",
    "print(\"Baseline MSE:\", base_mse, \"r^2:\", base_r2)"
   ]
  },
  {
   "cell_type": "code",
   "execution_count": 15,
   "id": "c07a9264",
   "metadata": {},
   "outputs": [
    {
     "name": "stdout",
     "output_type": "stream",
     "text": [
      "Model MSE: 133440978.61376347 r^2: 0.08940589967885804\n"
     ]
    }
   ],
   "source": [
    "# age model\n",
    "data = insurance['age'].values.reshape((-1, 1))\n",
    "target = insurance['charges'].values\n",
    "linear_model2 = LinearRegression()\n",
    "linear_model2.fit(X = data, y = target)\n",
    "insurance['predicted_charges'] = linear_model2.predict(data)\n",
    "predictions = insurance['predicted_charges'].values\n",
    "m2_mse = mean_squared_error(target, predictions) # float: MSE of your model\n",
    "m2_r2 = r2_score(target, predictions) # float: R^2 score of your model\n",
    "print(\"Model MSE:\", m2_mse, \"r^2:\", m2_r2)"
   ]
  },
  {
   "cell_type": "code",
   "execution_count": 16,
   "id": "6fb531f4",
   "metadata": {},
   "outputs": [
    {
     "name": "stdout",
     "output_type": "stream",
     "text": [
      "[[0]\n",
      " [1]\n",
      " [1]\n",
      " ...\n",
      " [0]\n",
      " [0]\n",
      " [0]]\n",
      "Model MSE: 146061757.39031374 r^2: 0.003282380391360862\n"
     ]
    }
   ],
   "source": [
    "# sex model\n",
    "data = insurance['sex'].values.reshape((-1, 1))\n",
    "target = insurance['charges'].values\n",
    "print(data)\n",
    "linear_model3 = LinearRegression()\n",
    "linear_model3.fit(X = data, y = target)\n",
    "insurance['predicted_charges'] = linear_model3.predict(data)\n",
    "predictions = insurance['predicted_charges'].values\n",
    "m3_mse = mean_squared_error(target, predictions) # float: MSE of your model\n",
    "m3_r2 = r2_score(target, predictions) # float: R^2 score of your model\n",
    "print(\"Model MSE:\", m3_mse, \"r^2:\", m3_r2)"
   ]
  },
  {
   "cell_type": "code",
   "execution_count": 17,
   "id": "b5602cf0",
   "metadata": {},
   "outputs": [
    {
     "name": "stdout",
     "output_type": "stream",
     "text": [
      "Model MSE: 140777900.09850758 r^2: 0.03933913991786253\n"
     ]
    }
   ],
   "source": [
    "# bmi model\n",
    "data = insurance['bmi'].values.reshape((-1, 1))\n",
    "target = insurance['charges'].values\n",
    "linear_model4 = LinearRegression()\n",
    "linear_model4.fit(X = data, y = target)\n",
    "insurance['predicted_charges'] = linear_model4.predict(data)\n",
    "predictions = insurance['predicted_charges'].values\n",
    "m4_mse = mean_squared_error(target, predictions) # float: MSE of your model\n",
    "m4_r2 = r2_score(target, predictions) # float: R^2 score of your model\n",
    "print(\"Model MSE:\", m4_mse, \"r^2:\", m4_r2)"
   ]
  },
  {
   "cell_type": "code",
   "execution_count": 18,
   "id": "95fd0451",
   "metadata": {},
   "outputs": [
    {
     "name": "stdout",
     "output_type": "stream",
     "text": [
      "Model MSE: 145865188.07941642 r^2: 0.004623758854459203\n"
     ]
    }
   ],
   "source": [
    "# number of children model\n",
    "data = insurance['children'].values.reshape((-1, 1))\n",
    "target = insurance['charges'].values\n",
    "linear_model5 = LinearRegression()\n",
    "linear_model5.fit(X = data, y = target)\n",
    "insurance['predicted_charges'] = linear_model5.predict(data)\n",
    "predictions = insurance['predicted_charges'].values\n",
    "m5_mse = mean_squared_error(target, predictions) # float: MSE of your model\n",
    "m5_r2 = r2_score(target, predictions) # float: R^2 score of your model\n",
    "print(\"Model MSE:\", m5_mse, \"r^2:\", m5_r2)"
   ]
  },
  {
   "cell_type": "code",
   "execution_count": 19,
   "id": "829bff07",
   "metadata": {},
   "outputs": [
    {
     "name": "stdout",
     "output_type": "stream",
     "text": [
      "Model MSE: 55720715.95418544 r^2: 0.6197648148218988\n"
     ]
    }
   ],
   "source": [
    "# smoker status model\n",
    "data = insurance['smoker'].values.reshape((-1, 1))\n",
    "target = insurance['charges'].values\n",
    "linear_model6 = LinearRegression()\n",
    "linear_model6.fit(X = data, y = target)\n",
    "insurance['predicted_charges'] = linear_model6.predict(data)\n",
    "predictions = insurance['predicted_charges'].values\n",
    "m6_mse = mean_squared_error(target, predictions) # float: MSE of your model\n",
    "m6_r2 = r2_score(target, predictions) # float: R^2 score of your model\n",
    "print(\"Model MSE:\", m6_mse, \"r^2:\", m6_r2)"
   ]
  },
  {
   "cell_type": "code",
   "execution_count": 20,
   "id": "cc7c9dda",
   "metadata": {},
   "outputs": [
    {
     "name": "stdout",
     "output_type": "stream",
     "text": [
      "Model MSE: 146537118.41576278 r^2: 3.854218069099247e-05\n"
     ]
    }
   ],
   "source": [
    "# region model\n",
    "data = insurance['region'].values.reshape((-1, 1))\n",
    "target = insurance['charges'].values\n",
    "linear_model7 = LinearRegression()\n",
    "linear_model7.fit(X = data, y = target)\n",
    "insurance['predicted_charges'] = linear_model7.predict(data)\n",
    "predictions = insurance['predicted_charges'].values\n",
    "m7_mse = mean_squared_error(target, predictions) # float: MSE of your model\n",
    "m7_r2 = r2_score(target, predictions) # float: R^2 score of your model\n",
    "print(\"Model MSE:\", m7_mse, \"r^2:\", m7_r2)"
   ]
  },
  {
   "cell_type": "code",
   "execution_count": null,
   "id": "d41e4015",
   "metadata": {},
   "outputs": [],
   "source": []
  }
 ],
 "metadata": {
  "kernelspec": {
   "display_name": "Python 3 (ipykernel)",
   "language": "python",
   "name": "python3"
  },
  "language_info": {
   "codemirror_mode": {
    "name": "ipython",
    "version": 3
   },
   "file_extension": ".py",
   "mimetype": "text/x-python",
   "name": "python",
   "nbconvert_exporter": "python",
   "pygments_lexer": "ipython3",
   "version": "3.9.12"
  }
 },
 "nbformat": 4,
 "nbformat_minor": 5
}
