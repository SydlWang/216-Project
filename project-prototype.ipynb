{
 "cells": [
  {
   "cell_type": "code",
   "execution_count": 1,
   "id": "824c7603",
   "metadata": {},
   "outputs": [],
   "source": [
    "# Run this code cell to import relevant libraries\n",
    "# Please update to seaborn v0.11 or above for this assignment\n",
    "# check version: print(sns.__version__)\n",
    "\n",
    "import numpy as np\n",
    "import pandas as pd\n",
    "import seaborn as sns\n",
    "from scipy import stats"
   ]
  },
  {
   "cell_type": "code",
   "execution_count": 2,
   "id": "b0d368a9",
   "metadata": {},
   "outputs": [
    {
     "name": "stdout",
     "output_type": "stream",
     "text": [
      "(1338, 7)\n"
     ]
    },
    {
     "data": {
      "text/html": [
       "<div>\n",
       "<style scoped>\n",
       "    .dataframe tbody tr th:only-of-type {\n",
       "        vertical-align: middle;\n",
       "    }\n",
       "\n",
       "    .dataframe tbody tr th {\n",
       "        vertical-align: top;\n",
       "    }\n",
       "\n",
       "    .dataframe thead th {\n",
       "        text-align: right;\n",
       "    }\n",
       "</style>\n",
       "<table border=\"1\" class=\"dataframe\">\n",
       "  <thead>\n",
       "    <tr style=\"text-align: right;\">\n",
       "      <th></th>\n",
       "      <th>age</th>\n",
       "      <th>sex</th>\n",
       "      <th>bmi</th>\n",
       "      <th>children</th>\n",
       "      <th>smoker</th>\n",
       "      <th>region</th>\n",
       "      <th>charges</th>\n",
       "    </tr>\n",
       "  </thead>\n",
       "  <tbody>\n",
       "    <tr>\n",
       "      <th>0</th>\n",
       "      <td>19</td>\n",
       "      <td>female</td>\n",
       "      <td>27.900</td>\n",
       "      <td>0</td>\n",
       "      <td>yes</td>\n",
       "      <td>southwest</td>\n",
       "      <td>16884.92400</td>\n",
       "    </tr>\n",
       "    <tr>\n",
       "      <th>1</th>\n",
       "      <td>18</td>\n",
       "      <td>male</td>\n",
       "      <td>33.770</td>\n",
       "      <td>1</td>\n",
       "      <td>no</td>\n",
       "      <td>southeast</td>\n",
       "      <td>1725.55230</td>\n",
       "    </tr>\n",
       "    <tr>\n",
       "      <th>2</th>\n",
       "      <td>28</td>\n",
       "      <td>male</td>\n",
       "      <td>33.000</td>\n",
       "      <td>3</td>\n",
       "      <td>no</td>\n",
       "      <td>southeast</td>\n",
       "      <td>4449.46200</td>\n",
       "    </tr>\n",
       "    <tr>\n",
       "      <th>3</th>\n",
       "      <td>33</td>\n",
       "      <td>male</td>\n",
       "      <td>22.705</td>\n",
       "      <td>0</td>\n",
       "      <td>no</td>\n",
       "      <td>northwest</td>\n",
       "      <td>21984.47061</td>\n",
       "    </tr>\n",
       "    <tr>\n",
       "      <th>4</th>\n",
       "      <td>32</td>\n",
       "      <td>male</td>\n",
       "      <td>28.880</td>\n",
       "      <td>0</td>\n",
       "      <td>no</td>\n",
       "      <td>northwest</td>\n",
       "      <td>3866.85520</td>\n",
       "    </tr>\n",
       "  </tbody>\n",
       "</table>\n",
       "</div>"
      ],
      "text/plain": [
       "   age     sex     bmi  children smoker     region      charges\n",
       "0   19  female  27.900         0    yes  southwest  16884.92400\n",
       "1   18    male  33.770         1     no  southeast   1725.55230\n",
       "2   28    male  33.000         3     no  southeast   4449.46200\n",
       "3   33    male  22.705         0     no  northwest  21984.47061\n",
       "4   32    male  28.880         0     no  northwest   3866.85520"
      ]
     },
     "execution_count": 2,
     "metadata": {},
     "output_type": "execute_result"
    }
   ],
   "source": [
    "# Run but do not modify this code\n",
    "\n",
    "insurance = pd.read_csv(\"insurance.csv\")\n",
    "print(insurance.shape)\n",
    "insurance.head()"
   ]
  },
  {
   "cell_type": "code",
   "execution_count": 3,
   "id": "c1cc6d8b",
   "metadata": {},
   "outputs": [
    {
     "data": {
      "text/html": [
       "<div>\n",
       "<style scoped>\n",
       "    .dataframe tbody tr th:only-of-type {\n",
       "        vertical-align: middle;\n",
       "    }\n",
       "\n",
       "    .dataframe tbody tr th {\n",
       "        vertical-align: top;\n",
       "    }\n",
       "\n",
       "    .dataframe thead th {\n",
       "        text-align: right;\n",
       "    }\n",
       "</style>\n",
       "<table border=\"1\" class=\"dataframe\">\n",
       "  <thead>\n",
       "    <tr style=\"text-align: right;\">\n",
       "      <th></th>\n",
       "      <th>charges</th>\n",
       "    </tr>\n",
       "    <tr>\n",
       "      <th>smoker</th>\n",
       "      <th></th>\n",
       "    </tr>\n",
       "  </thead>\n",
       "  <tbody>\n",
       "    <tr>\n",
       "      <th>no</th>\n",
       "      <td>8434.268298</td>\n",
       "    </tr>\n",
       "    <tr>\n",
       "      <th>yes</th>\n",
       "      <td>32050.231832</td>\n",
       "    </tr>\n",
       "  </tbody>\n",
       "</table>\n",
       "</div>"
      ],
      "text/plain": [
       "             charges\n",
       "smoker              \n",
       "no       8434.268298\n",
       "yes     32050.231832"
      ]
     },
     "execution_count": 3,
     "metadata": {},
     "output_type": "execute_result"
    }
   ],
   "source": [
    "charges_by_smoker = insurance.groupby('smoker')['charges'].mean().to_frame()\n",
    "charges_by_smoker.head()"
   ]
  },
  {
   "cell_type": "code",
   "execution_count": 4,
   "id": "4d022c99",
   "metadata": {},
   "outputs": [
    {
     "data": {
      "text/html": [
       "<div>\n",
       "<style scoped>\n",
       "    .dataframe tbody tr th:only-of-type {\n",
       "        vertical-align: middle;\n",
       "    }\n",
       "\n",
       "    .dataframe tbody tr th {\n",
       "        vertical-align: top;\n",
       "    }\n",
       "\n",
       "    .dataframe thead th {\n",
       "        text-align: right;\n",
       "    }\n",
       "</style>\n",
       "<table border=\"1\" class=\"dataframe\">\n",
       "  <thead>\n",
       "    <tr style=\"text-align: right;\">\n",
       "      <th></th>\n",
       "      <th>charges</th>\n",
       "    </tr>\n",
       "    <tr>\n",
       "      <th>sex</th>\n",
       "      <th></th>\n",
       "    </tr>\n",
       "  </thead>\n",
       "  <tbody>\n",
       "    <tr>\n",
       "      <th>female</th>\n",
       "      <td>12569.578844</td>\n",
       "    </tr>\n",
       "    <tr>\n",
       "      <th>male</th>\n",
       "      <td>13956.751178</td>\n",
       "    </tr>\n",
       "  </tbody>\n",
       "</table>\n",
       "</div>"
      ],
      "text/plain": [
       "             charges\n",
       "sex                 \n",
       "female  12569.578844\n",
       "male    13956.751178"
      ]
     },
     "execution_count": 4,
     "metadata": {},
     "output_type": "execute_result"
    }
   ],
   "source": [
    "charges_by_sex = insurance.groupby('sex')['charges'].mean().to_frame()\n",
    "charges_by_sex.head()"
   ]
  },
  {
   "cell_type": "code",
   "execution_count": 5,
   "id": "ad15c1d2",
   "metadata": {},
   "outputs": [
    {
     "data": {
      "text/html": [
       "<div>\n",
       "<style scoped>\n",
       "    .dataframe tbody tr th:only-of-type {\n",
       "        vertical-align: middle;\n",
       "    }\n",
       "\n",
       "    .dataframe tbody tr th {\n",
       "        vertical-align: top;\n",
       "    }\n",
       "\n",
       "    .dataframe thead th {\n",
       "        text-align: right;\n",
       "    }\n",
       "</style>\n",
       "<table border=\"1\" class=\"dataframe\">\n",
       "  <thead>\n",
       "    <tr style=\"text-align: right;\">\n",
       "      <th></th>\n",
       "      <th>charges</th>\n",
       "    </tr>\n",
       "    <tr>\n",
       "      <th>region</th>\n",
       "      <th></th>\n",
       "    </tr>\n",
       "  </thead>\n",
       "  <tbody>\n",
       "    <tr>\n",
       "      <th>northeast</th>\n",
       "      <td>13406.384516</td>\n",
       "    </tr>\n",
       "    <tr>\n",
       "      <th>northwest</th>\n",
       "      <td>12417.575374</td>\n",
       "    </tr>\n",
       "    <tr>\n",
       "      <th>southeast</th>\n",
       "      <td>14735.411438</td>\n",
       "    </tr>\n",
       "    <tr>\n",
       "      <th>southwest</th>\n",
       "      <td>12346.937377</td>\n",
       "    </tr>\n",
       "  </tbody>\n",
       "</table>\n",
       "</div>"
      ],
      "text/plain": [
       "                charges\n",
       "region                 \n",
       "northeast  13406.384516\n",
       "northwest  12417.575374\n",
       "southeast  14735.411438\n",
       "southwest  12346.937377"
      ]
     },
     "execution_count": 5,
     "metadata": {},
     "output_type": "execute_result"
    }
   ],
   "source": [
    "charges_by_region = insurance.groupby('region')['charges'].mean().to_frame()\n",
    "charges_by_region.head()"
   ]
  },
  {
   "cell_type": "code",
   "execution_count": 6,
   "id": "5b32c92b",
   "metadata": {},
   "outputs": [
    {
     "data": {
      "image/png": "[encoded data removed]",
      "text/plain": [
       "<Figure size 413.25x360 with 1 Axes>"
      ]
     },
     "metadata": {
      "needs_background": "light"
     },
     "output_type": "display_data"
    }
   ],
   "source": [
    "(sns.displot(data = insurance, x = 'charges', hue = 'smoker')\n",
    "    .set(title = 'Relationship Between Smoker Status and Insurance Costs')\n",
    "    ._legend.set_title('Smoker Status'))"
   ]
  },
  {
   "cell_type": "code",
   "execution_count": 7,
   "id": "139788d3",
   "metadata": {},
   "outputs": [
    {
     "data": {
      "image/png": "[encoded data removed]",
      "text/plain": [
       "<Figure size 430.5x360 with 1 Axes>"
      ]
     },
     "metadata": {
      "needs_background": "light"
     },
     "output_type": "display_data"
    }
   ],
   "source": [
    "(sns.displot(data = insurance, x = 'charges', hue = 'sex', palette=[\"blue\", \"red\"])\n",
    "    .set(title = 'Relationship Between Sex and Insurance Costs')\n",
    "    ._legend.set_title('Sex'))"
   ]
  },
  {
   "cell_type": "code",
   "execution_count": 18,
   "id": "0e277eb1",
   "metadata": {},
   "outputs": [
    {
     "name": "stdout",
     "output_type": "stream",
     "text": [
      "P-Value is : 0.036\n",
      "Male confidence interval ranges from 13261.736 to 14651.766\n",
      "Female confidence interval ranges from 11973.279 to 13165.879\n"
     ]
    }
   ],
   "source": [
    "males = insurance[insurance['sex'] == 'male']\n",
    "females = insurance[insurance['sex'] == 'female']\n",
    "male_prop = males['charges'].mean()\n",
    "female_prop = females['charges'].mean()\n",
    "male_std = males['charges'].std()\n",
    "female_std = females['charges'].std()\n",
    "p_val1 = stats.ttest_ind_from_stats(mean1=male_prop, std1=male_std, nobs1=males.shape[0], mean2=female_prop, std2=female_std, nobs2=females.shape[0])[1]\n",
    "print(\"P-Value is : %5.3f\" % (p_val1))\n",
    "male_ci = list(stats.norm.interval(alpha=0.95, loc=male_prop, scale = (male_std / np.sqrt(1338))))\n",
    "female_ci = list(stats.norm.interval(alpha=0.95, loc=female_prop, scale = (female_std / np.sqrt(1338))))\n",
    "print(\"Male confidence interval ranges from %5.3f to %5.3f\" % (male_ci[0], male_ci[1]))\n",
    "print(\"Female confidence interval ranges from %5.3f to %5.3f\" % (female_ci[0], female_ci[1]))"
   ]
  },
  {
   "cell_type": "code",
   "execution_count": 19,
   "id": "5ddf40d9",
   "metadata": {},
   "outputs": [
    {
     "name": "stdout",
     "output_type": "stream",
     "text": [
      "P-Value is : 0.000\n",
      "Smokers confidence interval ranges from 31431.811 to 32668.653\n",
      "Nonmokers confidence interval ranges from 8113.109 to 8755.428\n"
     ]
    }
   ],
   "source": [
    "smokers = insurance[insurance['smoker'] == 'yes']\n",
    "nonsmokers = insurance[insurance['smoker'] == 'no']\n",
    "smokers_prop = smokers['charges'].mean()\n",
    "nonsmokers_prop = nonsmokers['charges'].mean()\n",
    "smokers_std = smokers['charges'].std()\n",
    "nonsmokers_std = nonsmokers['charges'].std()\n",
    "p_val2 = stats.ttest_ind_from_stats(mean1=smokers_prop, std1=smokers_std, nobs1=smokers.shape[0], mean2=nonsmokers_prop, std2=nonsmokers_std, nobs2=nonsmokers.shape[0])[1]\n",
    "print(\"P-Value is : %5.3f\" % (p_val2))\n",
    "smokers_ci = list(stats.norm.interval(alpha=0.95, loc=smokers_prop, scale = (smokers_std / np.sqrt(1338))))\n",
    "nonsmokers_ci = list(stats.norm.interval(alpha=0.95, loc=nonsmokers_prop, scale = (nonsmokers_std / np.sqrt(1338))))\n",
    "print(\"Smokers confidence interval ranges from %5.3f to %5.3f\" % (smokers_ci[0], smokers_ci[1]))\n",
    "print(\"Nonmokers confidence interval ranges from %5.3f to %5.3f\" % (nonsmokers_ci[0], nonsmokers_ci[1]))"
   ]
  }
 ],
 "metadata": {
  "kernelspec": {
   "display_name": "Python 3 (ipykernel)",
   "language": "python",
   "name": "python3"
  },
  "language_info": {
   "codemirror_mode": {
    "name": "ipython",
    "version": 3
   },
   "file_extension": ".py",
   "mimetype": "text/x-python",
   "name": "python",
   "nbconvert_exporter": "python",
   "pygments_lexer": "ipython3",
   "version": "3.9.12"
  }
 },
 "nbformat": 4,
 "nbformat_minor": 5
}
